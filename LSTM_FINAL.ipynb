{
 "cells": [
  {
   "cell_type": "code",
   "execution_count": 1,
   "metadata": {
    "colab": {
     "base_uri": "https://localhost:8080/"
    },
    "executionInfo": {
     "elapsed": 3054,
     "status": "ok",
     "timestamp": 1628856405433,
     "user": {
      "displayName": "Sangamesh Murgad",
      "photoUrl": "",
      "userId": "15997361183506774213"
     },
     "user_tz": -330
    },
    "id": "pamNB90zl6NZ",
    "outputId": "807172c5-ba86-474d-af83-4f079645ecd6"
   },
   "outputs": [
    {
     "name": "stderr",
     "output_type": "stream",
     "text": [
      "/usr/local/lib/python3.7/dist-packages/statsmodels/tools/_testing.py:19: FutureWarning: pandas.util.testing is deprecated. Use the functions in the public API at pandas.testing instead.\n",
      "  import pandas.util.testing as tm\n"
     ]
    }
   ],
   "source": [
    "import numpy as np\n",
    "import pandas as pd\n",
    "import matplotlib.pyplot as plt\n",
    "%matplotlib inline\n",
    "import matplotlib\n",
    "from datetime import datetime, timedelta, date\n",
    "from statsmodels.graphics.tsaplots import plot_acf\n",
    "from statsmodels.graphics.tsaplots import plot_pacf\n",
    "\n",
    "from statsmodels.tsa.stattools import adfuller\n",
    "from statsmodels.tsa.seasonal import seasonal_decompose\n",
    "\n",
    "import sklearn.metrics as metrics\n",
    "from sklearn.metrics import mean_squared_error as MSE\n",
    "# from sklearn.metrics import mean_absolute_percentage_error as MAPE\n",
    "from sklearn.metrics import r2_score\n",
    "\n",
    "import tensorflow as tf\n",
    "from keras.models import Sequential\n",
    "from keras.layers import Dense\n",
    "from keras.optimizers import Adam\n",
    "import keras.backend as K\n",
    "from keras import layers\n",
    "from keras.initializers import Zeros\n",
    "from keras.callbacks import EarlyStopping\n",
    "from keras.models import load_model\n",
    "from keras.layers import Dropout\n",
    "\n",
    "# Set random seed\n",
    "np.random.seed(0)\n",
    "\n",
    "def adj_r2_score(r2, n, k):\n",
    "    return 1 - ((1 - r2) * ((n - 1) / (n - k - 1)))"
   ]
  },
  {
   "cell_type": "code",
   "execution_count": 2,
   "metadata": {
    "executionInfo": {
     "elapsed": 29,
     "status": "ok",
     "timestamp": 1628856405439,
     "user": {
      "displayName": "Sangamesh Murgad",
      "photoUrl": "",
      "userId": "15997361183506774213"
     },
     "user_tz": -330
    },
    "id": "4XzBK3M8mP3a"
   },
   "outputs": [],
   "source": [
    "# Set figure size for all matplotlib figures\n",
    "fig_size = plt.rcParams[\"figure.figsize\"]\n",
    "fig_size[0] = 10\n",
    "fig_size[1] = 5"
   ]
  },
  {
   "cell_type": "code",
   "execution_count": 3,
   "metadata": {
    "colab": {
     "base_uri": "https://localhost:8080/",
     "height": 234
    },
    "executionInfo": {
     "elapsed": 27,
     "status": "ok",
     "timestamp": 1628856405440,
     "user": {
      "displayName": "Sangamesh Murgad",
      "photoUrl": "",
      "userId": "15997361183506774213"
     },
     "user_tz": -330
    },
    "id": "Vw0-0V3-mPd7",
    "outputId": "34b46a48-ee24-4ab3-9354-8a86ea20964e"
   },
   "outputs": [
    {
     "data": {
      "text/html": [
       "<div>\n",
       "<style scoped>\n",
       "    .dataframe tbody tr th:only-of-type {\n",
       "        vertical-align: middle;\n",
       "    }\n",
       "\n",
       "    .dataframe tbody tr th {\n",
       "        vertical-align: top;\n",
       "    }\n",
       "\n",
       "    .dataframe thead th {\n",
       "        text-align: right;\n",
       "    }\n",
       "</style>\n",
       "<table border=\"1\" class=\"dataframe\">\n",
       "  <thead>\n",
       "    <tr style=\"text-align: right;\">\n",
       "      <th></th>\n",
       "      <th>DEXINUS</th>\n",
       "    </tr>\n",
       "    <tr>\n",
       "      <th>observation_date</th>\n",
       "      <th></th>\n",
       "    </tr>\n",
       "  </thead>\n",
       "  <tbody>\n",
       "    <tr>\n",
       "      <th>1973-01-02</th>\n",
       "      <td>8.02</td>\n",
       "    </tr>\n",
       "    <tr>\n",
       "      <th>1973-01-03</th>\n",
       "      <td>8.02</td>\n",
       "    </tr>\n",
       "    <tr>\n",
       "      <th>1973-01-04</th>\n",
       "      <td>8.00</td>\n",
       "    </tr>\n",
       "    <tr>\n",
       "      <th>1973-01-05</th>\n",
       "      <td>8.01</td>\n",
       "    </tr>\n",
       "    <tr>\n",
       "      <th>1973-01-08</th>\n",
       "      <td>8.00</td>\n",
       "    </tr>\n",
       "  </tbody>\n",
       "</table>\n",
       "</div>"
      ],
      "text/plain": [
       "                  DEXINUS\n",
       "observation_date         \n",
       "1973-01-02           8.02\n",
       "1973-01-03           8.02\n",
       "1973-01-04           8.00\n",
       "1973-01-05           8.01\n",
       "1973-01-08           8.00"
      ]
     },
     "execution_count": 3,
     "metadata": {
      "tags": []
     },
     "output_type": "execute_result"
    }
   ],
   "source": [
    "df = pd.read_excel('/content/DEXINUS.xls',\n",
    "                   skiprows=10,\n",
    "                   index_col=[0],\n",
    "                   parse_dates=True)\n",
    "df.head()"
   ]
  },
  {
   "cell_type": "code",
   "execution_count": 4,
   "metadata": {
    "executionInfo": {
     "elapsed": 24,
     "status": "ok",
     "timestamp": 1628856405441,
     "user": {
      "displayName": "Sangamesh Murgad",
      "photoUrl": "",
      "userId": "15997361183506774213"
     },
     "user_tz": -330
    },
    "id": "Z2kZ6T-dmPIa"
   },
   "outputs": [],
   "source": [
    "#Fill missing values using interpolation\n",
    "df['DEXINUS'].interpolate(method='linear',\n",
    "                          limit_direction='forward',\n",
    "                          inplace=True)"
   ]
  },
  {
   "cell_type": "code",
   "execution_count": 5,
   "metadata": {
    "colab": {
     "base_uri": "https://localhost:8080/"
    },
    "executionInfo": {
     "elapsed": 24,
     "status": "ok",
     "timestamp": 1628856405442,
     "user": {
      "displayName": "Sangamesh Murgad",
      "photoUrl": "",
      "userId": "15997361183506774213"
     },
     "user_tz": -330
    },
    "id": "NGs0KOB1tuaR",
    "outputId": "04e574bb-4705-4649-dd07-930adfbb5ef4"
   },
   "outputs": [
    {
     "name": "stdout",
     "output_type": "stream",
     "text": [
      "<class 'pandas.core.frame.DataFrame'>\n",
      "DatetimeIndex: 12649 entries, 1973-01-02 to 2021-06-25\n",
      "Data columns (total 1 columns):\n",
      " #   Column   Non-Null Count  Dtype  \n",
      "---  ------   --------------  -----  \n",
      " 0   DEXINUS  12649 non-null  float64\n",
      "dtypes: float64(1)\n",
      "memory usage: 197.6 KB\n"
     ]
    }
   ],
   "source": [
    "df.info()"
   ]
  },
  {
   "cell_type": "code",
   "execution_count": 6,
   "metadata": {
    "colab": {
     "base_uri": "https://localhost:8080/"
    },
    "executionInfo": {
     "elapsed": 19,
     "status": "ok",
     "timestamp": 1628856405443,
     "user": {
      "displayName": "Sangamesh Murgad",
      "photoUrl": "",
      "userId": "15997361183506774213"
     },
     "user_tz": -330
    },
    "id": "9qXcI58ZmorO",
    "outputId": "4c29f378-595a-497f-abe0-b8ba72087b82"
   },
   "outputs": [
    {
     "data": {
      "text/plain": [
       "array([[0.01189794],\n",
       "       [0.01189794],\n",
       "       [0.01161124],\n",
       "       ...,\n",
       "       [0.95957569],\n",
       "       [0.95971904],\n",
       "       [0.95971904]])"
      ]
     },
     "execution_count": 6,
     "metadata": {
      "tags": []
     },
     "output_type": "execute_result"
    }
   ],
   "source": [
    "from sklearn.preprocessing import MinMaxScaler\n",
    "scaler = MinMaxScaler()\n",
    "scaler.fit(df)\n",
    "data1 = scaler.transform(df)\n",
    "data1"
   ]
  },
  {
   "cell_type": "code",
   "execution_count": 7,
   "metadata": {
    "colab": {
     "base_uri": "https://localhost:8080/"
    },
    "executionInfo": {
     "elapsed": 15,
     "status": "ok",
     "timestamp": 1628856405443,
     "user": {
      "displayName": "Sangamesh Murgad",
      "photoUrl": "",
      "userId": "15997361183506774213"
     },
     "user_tz": -330
    },
    "id": "CtjCIJaqmonm",
    "outputId": "e86534e4-d299-4fee-b434-6bf7098f0893"
   },
   "outputs": [
    {
     "data": {
      "text/plain": [
       "7431"
      ]
     },
     "execution_count": 7,
     "metadata": {
      "tags": []
     },
     "output_type": "execute_result"
    }
   ],
   "source": [
    "data3 = list(data1[12649-7431:].reshape(7431))\n",
    "len(data3)"
   ]
  },
  {
   "cell_type": "code",
   "execution_count": 8,
   "metadata": {
    "executionInfo": {
     "elapsed": 14,
     "status": "ok",
     "timestamp": 1628856405444,
     "user": {
      "displayName": "Sangamesh Murgad",
      "photoUrl": "",
      "userId": "15997361183506774213"
     },
     "user_tz": -330
    },
    "id": "eSMfsl31uBjq"
   },
   "outputs": [],
   "source": [
    "def gen_XY(t_list, size):\n",
    "    '''\n",
    "    Generates an autoregressive lagged array.\n",
    "    \n",
    "    Parameters\n",
    "    ----------\n",
    "    1. t_list: (list) Data to generate an autoregressive array out of.\n",
    "    2. size: (int) Number of lagged values to consider.\n",
    "    \n",
    "    Returns\n",
    "    ----------\n",
    "    1. X: (np.ndarray) Autoregressive feature array.\n",
    "    2. Y.T: (np.ndarray) Column array with values of response variable.\n",
    "    \n",
    "    '''\n",
    "    X = np.zeros([1, size])\n",
    "    Y = []\n",
    "    temp_list = []\n",
    "    for i in range(len(t_list) - size):\n",
    "        add_list = t_list[i:i + size]\n",
    "        target = t_list[i + size]\n",
    "        X = np.append(X, np.array([add_list]), axis=0)\n",
    "        Y.append(target)\n",
    "\n",
    "    X = np.delete(X, 0, axis=0)\n",
    "    Y = np.array(Y)\n",
    "\n",
    "    return X, Y.T"
   ]
  },
  {
   "cell_type": "code",
   "execution_count": 9,
   "metadata": {
    "executionInfo": {
     "elapsed": 763,
     "status": "ok",
     "timestamp": 1628856406194,
     "user": {
      "displayName": "Sangamesh Murgad",
      "photoUrl": "",
      "userId": "15997361183506774213"
     },
     "user_tz": -330
    },
    "id": "I4IFdRrdmoht"
   },
   "outputs": [],
   "source": [
    "X_train3, y_train3 = gen_XY(data3, 1)"
   ]
  },
  {
   "cell_type": "code",
   "execution_count": 10,
   "metadata": {
    "colab": {
     "base_uri": "https://localhost:8080/"
    },
    "executionInfo": {
     "elapsed": 22,
     "status": "ok",
     "timestamp": 1628856406195,
     "user": {
      "displayName": "Sangamesh Murgad",
      "photoUrl": "",
      "userId": "15997361183506774213"
     },
     "user_tz": -330
    },
    "id": "CAkOfbuemoZU",
    "outputId": "67868070-2b32-4e9b-f899-852fe4f884b7"
   },
   "outputs": [
    {
     "name": "stdout",
     "output_type": "stream",
     "text": [
      "(7430,) (7430, 1) <class 'numpy.ndarray'>\n",
      "[0.31264335 0.31264335 0.31264335 0.31264335 0.31264335]\n"
     ]
    }
   ],
   "source": [
    "print(y_train3.shape,X_train3.shape,type(y_train3))\n",
    "print(y_train3[:5])\n",
    "# print(y_train.reshape(12123,-1))"
   ]
  },
  {
   "cell_type": "code",
   "execution_count": 11,
   "metadata": {
    "colab": {
     "base_uri": "https://localhost:8080/"
    },
    "executionInfo": {
     "elapsed": 19,
     "status": "ok",
     "timestamp": 1628856406196,
     "user": {
      "displayName": "Sangamesh Murgad",
      "photoUrl": "",
      "userId": "15997361183506774213"
     },
     "user_tz": -330
    },
    "id": "qP0ogtI_moTU",
    "outputId": "09eb4f03-2529-46c1-de19-5ee3f92d572a"
   },
   "outputs": [
    {
     "name": "stdout",
     "output_type": "stream",
     "text": [
      "(7430, 1, 1)\n"
     ]
    },
    {
     "data": {
      "text/plain": [
       "array([[[0.31264335]],\n",
       "\n",
       "       [[0.31264335]]])"
      ]
     },
     "execution_count": 11,
     "metadata": {
      "tags": []
     },
     "output_type": "execute_result"
    }
   ],
   "source": [
    "#LSTM Preprocessing\n",
    "X_tr_t3 = X_train3.reshape(X_train3.shape[0], 1, X_train3.shape[1])\n",
    "print(X_tr_t3.shape)\n",
    "X_tr_t3[:2]"
   ]
  },
  {
   "cell_type": "code",
   "execution_count": 12,
   "metadata": {
    "colab": {
     "base_uri": "https://localhost:8080/"
    },
    "executionInfo": {
     "elapsed": 15,
     "status": "ok",
     "timestamp": 1628856406197,
     "user": {
      "displayName": "Sangamesh Murgad",
      "photoUrl": "",
      "userId": "15997361183506774213"
     },
     "user_tz": -330
    },
    "id": "g6wc1JvVmoMk",
    "outputId": "9ec25a0c-4023-4a33-f029-70a51bf898e4"
   },
   "outputs": [
    {
     "name": "stdout",
     "output_type": "stream",
     "text": [
      "Model: \"sequential\"\n",
      "_________________________________________________________________\n",
      "Layer (type)                 Output Shape              Param #   \n",
      "=================================================================\n",
      "lstm (LSTM)                  (None, 100)               40800     \n",
      "_________________________________________________________________\n",
      "dense (Dense)                (None, 1)                 101       \n",
      "=================================================================\n",
      "Total params: 40,901\n",
      "Trainable params: 40,901\n",
      "Non-trainable params: 0\n",
      "_________________________________________________________________\n"
     ]
    }
   ],
   "source": [
    "from keras.layers import LSTM\n",
    "\n",
    "K.clear_session()\n",
    "model_lstm = Sequential()\n",
    "model_lstm.add(\n",
    "    LSTM(100,\n",
    "         input_shape=(1,X_train3.shape[1]),\n",
    "         activation='relu',\n",
    "#          kernel_initializer='lecun_uniform',\n",
    "         return_sequences=False))\n",
    "model_lstm.add(Dense(1))\n",
    "model_lstm.summary()"
   ]
  },
  {
   "cell_type": "code",
   "execution_count": 13,
   "metadata": {
    "colab": {
     "base_uri": "https://localhost:8080/"
    },
    "executionInfo": {
     "elapsed": 65194,
     "status": "ok",
     "timestamp": 1628856471380,
     "user": {
      "displayName": "Sangamesh Murgad",
      "photoUrl": "",
      "userId": "15997361183506774213"
     },
     "user_tz": -330
    },
    "id": "FB2lBUqxmoFE",
    "outputId": "0ee940d6-52a4-4129-c8c5-e783cf59d1d2"
   },
   "outputs": [
    {
     "name": "stdout",
     "output_type": "stream",
     "text": [
      "Epoch 1/100\n",
      "7430/7430 [==============================] - 38s 2ms/step - loss: 0.0041 - rmse: 0.0871\n",
      "Epoch 2/100\n",
      "7430/7430 [==============================] - 13s 2ms/step - loss: 5.3118e-04 - rmse: 0.0254\n",
      "Epoch 3/100\n",
      "7430/7430 [==============================] - 14s 2ms/step - loss: 5.8763e-04 - rmse: 0.0199\n",
      "Epoch 00003: early stopping\n"
     ]
    }
   ],
   "source": [
    "model_lstm.compile(\n",
    "    loss=tf.keras.metrics.mean_squared_error,\n",
    "    metrics=[tf.keras.metrics.RootMeanSquaredError(name='rmse')],\n",
    "    optimizer='adam')\n",
    "early_stop = EarlyStopping(monitor='loss', patience=1, verbose=1)\n",
    "history_model_lstm = model_lstm.fit(X_tr_t3,\n",
    "                                    y_train3,\n",
    "                                    epochs=100,\n",
    "                                    batch_size=1,\n",
    "                                    verbose=1,\n",
    "                                    shuffle=False,\n",
    "                                    callbacks=[early_stop])"
   ]
  },
  {
   "cell_type": "code",
   "execution_count": 14,
   "metadata": {
    "colab": {
     "base_uri": "https://localhost:8080/"
    },
    "executionInfo": {
     "elapsed": 43255,
     "status": "ok",
     "timestamp": 1628856514623,
     "user": {
      "displayName": "Sangamesh Murgad",
      "photoUrl": "",
      "userId": "15997361183506774213"
     },
     "user_tz": -330
    },
    "id": "dRWdhWA-mn8_",
    "outputId": "cf82d092-913a-4425-aea0-5865e85e8d47"
   },
   "outputs": [
    {
     "name": "stdout",
     "output_type": "stream",
     "text": [
      "The Scores on Train Data\n",
      "-----------------------\n",
      "The R2 score on the Train set is           :\t-0.085\n",
      "The  MAE on the Train set is               :\t11.560\n",
      "The  RMSE on the Train set is              :\t12.959\n",
      "The Adjusted R2 score on the Train set is  :\t-0.086\n",
      "The MAPE on Train set is                   :\t27.706 %\n",
      "\n"
     ]
    }
   ],
   "source": [
    "def MAPE(y,yhat):\n",
    "    return np.mean(np.abs((y - yhat)/y)*100)\n",
    "\n",
    "# y_pred_test_lstm = scaler.inverse_transform(model_lstm.predict(X_tst_t))\n",
    "y_train_pred_lstm = scaler.inverse_transform(model_lstm.predict(X_tr_t3))\n",
    "iy_train = scaler.inverse_transform(y_train3.reshape(7430,-1))#3519\n",
    "# iy_test = scaler.inverse_transform(y_test.reshape(524,-1))\n",
    "\n",
    "train_mse = metrics.mean_squared_error(iy_train, y_train_pred_lstm)\n",
    "rmse_train = np.sqrt(train_mse)\n",
    "\n",
    "\n",
    "print('The Scores on Train Data')\n",
    "print('-----------------------')\n",
    "print(\"The R2 score on the Train set is           :\\t{:0.3f}\".format(\n",
    "    r2_score(iy_train, y_train_pred_lstm)))\n",
    "print(\"The  MAE on the Train set is               :\\t{:0.3f}\".format(\n",
    "    metrics.mean_absolute_error(iy_train, y_train_pred_lstm)))\n",
    "\n",
    "print(\"The  RMSE on the Train set is              :\\t{:0.3f}\".format(rmse_train))\n",
    "r2_train = r2_score(iy_train, y_train_pred_lstm)\n",
    "print(\"The Adjusted R2 score on the Train set is  :\\t{:0.3f}\".format(\n",
    "    adj_r2_score(r2_train, X_train3.shape[0], X_train3.shape[1])))\n",
    "print('The MAPE on Train set is                   :\\t{:.3f} %\\n'.format(MAPE(iy_train,y_train_pred_lstm)))\n"
   ]
  },
  {
   "cell_type": "code",
   "execution_count": 15,
   "metadata": {
    "colab": {
     "base_uri": "https://localhost:8080/",
     "height": 241
    },
    "executionInfo": {
     "elapsed": 30,
     "status": "ok",
     "timestamp": 1628856514624,
     "user": {
      "displayName": "Sangamesh Murgad",
      "photoUrl": "",
      "userId": "15997361183506774213"
     },
     "user_tz": -330
    },
    "id": "i7WBN11dmn1E",
    "outputId": "3b06d945-6a24-4aed-9aaa-ecae1f037a9d"
   },
   "outputs": [
    {
     "data": {
      "image/png": "[encoded data removed]",
      "text/plain": [
       "<Figure size 864x216 with 1 Axes>"
      ]
     },
     "metadata": {
      "needs_background": "light",
      "tags": []
     },
     "output_type": "display_data"
    }
   ],
   "source": [
    "plt.figure(figsize=(12, 3))\n",
    "plt.plot(iy_train, label='True')\n",
    "plt.plot(y_train_pred_lstm, label='LSTM')\n",
    "plt.title(\"LSTM's_Prediction - Train Data\")\n",
    "plt.xlabel('Observation')\n",
    "plt.ylabel('INR_Scaled')\n",
    "plt.legend()\n",
    "plt.show()"
   ]
  },
  {
   "cell_type": "code",
   "execution_count": 16,
   "metadata": {
    "colab": {
     "base_uri": "https://localhost:8080/"
    },
    "executionInfo": {
     "elapsed": 28,
     "status": "ok",
     "timestamp": 1628856514625,
     "user": {
      "displayName": "Sangamesh Murgad",
      "photoUrl": "",
      "userId": "15997361183506774213"
     },
     "user_tz": -330
    },
    "id": "8cOsNZIymnsT",
    "outputId": "f5604a2b-776b-4c27-af17-12b2f980d12b"
   },
   "outputs": [
    {
     "name": "stdout",
     "output_type": "stream",
     "text": [
      "(1, 1) \n",
      "\n"
     ]
    },
    {
     "data": {
      "text/plain": [
       "[0.9597190366972478]"
      ]
     },
     "execution_count": 16,
     "metadata": {
      "tags": []
     },
     "output_type": "execute_result"
    }
   ],
   "source": [
    "x_input=np.array(data3[7431-1:]).reshape(1,-1)\n",
    "print(x_input.shape,'\\n')\n",
    "temp_input=list(x_input)\n",
    "temp_input=temp_input[0].tolist()\n",
    "temp_input"
   ]
  },
  {
   "cell_type": "code",
   "execution_count": 17,
   "metadata": {
    "colab": {
     "base_uri": "https://localhost:8080/"
    },
    "executionInfo": {
     "elapsed": 1936,
     "status": "ok",
     "timestamp": 1628856516540,
     "user": {
      "displayName": "Sangamesh Murgad",
      "photoUrl": "",
      "userId": "15997361183506774213"
     },
     "user_tz": -330
    },
    "id": "0gOw3j2pwT8y",
    "outputId": "c02e5132-1aca-4c54-f221-783e347b43a9"
   },
   "outputs": [
    {
     "name": "stdout",
     "output_type": "stream",
     "text": [
      "[[[0.95971904]]]\n",
      "[[0.9643537402153015], [0.9669992923736572], [0.9685108065605164], [0.9693748950958252], [0.9698688387870789], [0.9701513648033142], [0.9703129529953003], [0.9704053401947021], [0.9704582691192627], [0.970488429069519], [0.9705056548118591], [0.9705156087875366], [0.9705213308334351], [0.9705245494842529], [0.9705264568328857], [0.9705275297164917], [0.9705280661582947], [0.9705284833908081], [0.9705286622047424], [0.970528781414032], [0.9705288410186768], [0.9705289602279663], [0.9705290198326111], [0.9705290198326111], [0.9705290198326111], [0.9705290198326111], [0.9705290198326111], [0.9705290198326111], [0.9705290198326111], [0.9705290198326111]]\n"
     ]
    }
   ],
   "source": [
    "# demonstrate prediction for next 10 days\n",
    "from numpy import array\n",
    "\n",
    "lst_output=[]\n",
    "n_steps=1\n",
    "i=0\n",
    "while(i<30):\n",
    "    \n",
    "    if(len(temp_input)>1):\n",
    "        #print(temp_input)\n",
    "        x_input=np.array(temp_input[1:])\n",
    "        # print(\"{} day input {}\".format(i,x_input))\n",
    "        # x_input=x_input.reshape(1,-1)\n",
    "        x_input = x_input.reshape((1, 1, n_steps))\n",
    "        # print(x_input)\n",
    "        yhat = model_lstm.predict(x_input, verbose=0)\n",
    "        # print(\"{} day output {}\".format(i,yhat))\n",
    "        temp_input.extend(yhat[0].tolist())\n",
    "        temp_input=temp_input[1:]\n",
    "        #print(temp_input)\n",
    "        lst_output.extend(yhat.tolist())\n",
    "        i=i+1\n",
    "    else:\n",
    "        x_input = x_input.reshape(1,1,n_steps,)\n",
    "        print(x_input)\n",
    "        yhat = model_lstm.predict(x_input, verbose=0)\n",
    "        # print(yhat[0])\n",
    "        temp_input.extend(yhat[0].tolist())\n",
    "        # print(len(temp_input))\n",
    "        lst_output.extend(yhat.tolist())\n",
    "        i=i+1\n",
    "    \n",
    "\n",
    "print(lst_output)"
   ]
  },
  {
   "cell_type": "code",
   "execution_count": 18,
   "metadata": {
    "colab": {
     "base_uri": "https://localhost:8080/",
     "height": 241
    },
    "executionInfo": {
     "elapsed": 22,
     "status": "ok",
     "timestamp": 1628856516541,
     "user": {
      "displayName": "Sangamesh Murgad",
      "photoUrl": "",
      "userId": "15997361183506774213"
     },
     "user_tz": -330
    },
    "id": "fvLwvc6TymbB",
    "outputId": "c8b85433-b458-4b94-e16d-922d17915e47"
   },
   "outputs": [
    {
     "data": {
      "image/png": "[encoded data removed]",
      "text/plain": [
       "<Figure size 1152x216 with 1 Axes>"
      ]
     },
     "metadata": {
      "needs_background": "light",
      "tags": []
     },
     "output_type": "display_data"
    }
   ],
   "source": [
    "day_pred=np.arange(230,260)\n",
    "plt.figure(figsize=(16, 3))\n",
    "plt.plot(iy_train[7200:], label='True')\n",
    "plt.plot(day_pred,scaler.inverse_transform(lst_output), label='LSTM')\n",
    "plt.title(\"LSTM's_Prediction - NEXT 30 DAYS\")\n",
    "plt.xlabel('Observation')\n",
    "plt.ylabel('INR_Scaled')\n",
    "plt.legend()\n",
    "plt.show()"
   ]
  },
  {
   "cell_type": "code",
   "execution_count": 21,
   "metadata": {
    "colab": {
     "base_uri": "https://localhost:8080/"
    },
    "executionInfo": {
     "elapsed": 410,
     "status": "ok",
     "timestamp": 1628856684348,
     "user": {
      "displayName": "Sangamesh Murgad",
      "photoUrl": "",
      "userId": "15997361183506774213"
     },
     "user_tz": -330
    },
    "id": "XmuC5Qef-07b",
    "outputId": "d5480ae5-0892-420b-cf9a-0e42c4934f82"
   },
   "outputs": [
    {
     "name": "stdout",
     "output_type": "stream",
     "text": [
      "PREDICTED VALUES FOR NEXT 30 DAYS\n",
      "--------------------------------\n",
      "\n",
      "[74.46331692]\n",
      "[74.64787064]\n",
      "[74.75331387]\n",
      "[74.81359268]\n",
      "[74.84805019]\n",
      "[74.86775921]\n",
      "[74.8790316]\n",
      "[74.88547653]\n",
      "[74.88916885]\n",
      "[74.89127281]\n",
      "[74.89247448]\n",
      "[74.89316887]\n",
      "[74.89356804]\n",
      "[74.89379257]\n",
      "[74.89392563]\n",
      "[74.89400047]\n",
      "[74.8940379]\n",
      "[74.894067]\n",
      "[74.89407948]\n",
      "[74.89408779]\n",
      "[74.89409195]\n",
      "[74.89410027]\n",
      "[74.89410442]\n",
      "[74.89410442]\n",
      "[74.89410442]\n",
      "[74.89410442]\n",
      "[74.89410442]\n",
      "[74.89410442]\n",
      "[74.89410442]\n",
      "[74.89410442]\n"
     ]
    }
   ],
   "source": [
    "print('PREDICTED VALUES FOR NEXT 30 DAYS')\n",
    "print('--------------------------------\\n')\n",
    "result = scaler.inverse_transform(lst_output)\n",
    "# for i in range(len(lst_output)):\n",
    "for x in result:\n",
    "  print(x, sep = ', ' )"
   ]
  },
  {
   "cell_type": "code",
   "execution_count": 19,
   "metadata": {
    "executionInfo": {
     "elapsed": 12,
     "status": "ok",
     "timestamp": 1628856516542,
     "user": {
      "displayName": "Sangamesh Murgad",
      "photoUrl": "",
      "userId": "15997361183506774213"
     },
     "user_tz": -330
    },
    "id": "amMH5D5sMWs_"
   },
   "outputs": [],
   "source": []
  }
 ],
 "metadata": {
  "colab": {
   "authorship_tag": "ABX9TyOj/lkOsREOudDFUznEhMIm",
   "collapsed_sections": [],
   "name": "LSTM_FINAL.ipynb",
   "provenance": []
  },
  "kernelspec": {
   "display_name": "Python 3",
   "language": "python",
   "name": "python3"
  },
  "language_info": {
   "codemirror_mode": {
    "name": "ipython",
    "version": 3
   },
   "file_extension": ".py",
   "mimetype": "text/x-python",
   "name": "python",
   "nbconvert_exporter": "python",
   "pygments_lexer": "ipython3",
   "version": "3.8.8"
  }
 },
 "nbformat": 4,
 "nbformat_minor": 1
}
